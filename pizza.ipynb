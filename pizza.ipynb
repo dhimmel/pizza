{
 "metadata": {
  "name": "",
  "signature": "sha256:3f55035b134d22aed54b87ae6ec9a33a9e5bb53964165d2f69b8ad20a23dc6a4"
 },
 "nbformat": 3,
 "nbformat_minor": 0,
 "worksheets": [
  {
   "cells": [
    {
     "cell_type": "code",
     "collapsed": false,
     "input": [
      "import datetime\n",
      "import numpy.random\n",
      "import requests"
     ],
     "language": "python",
     "metadata": {},
     "outputs": [],
     "prompt_number": 1
    },
    {
     "cell_type": "markdown",
     "metadata": {},
     "source": [
      "## Identifying Toppings\n",
      "\n",
      "The list of available toppings was retreived from the [Za Pizza website](http://zapizzasf.com/) on February 22, 2015. Further personal communication with Brooks Bernstein, identified additional toppings that were not listed online."
     ]
    },
    {
     "cell_type": "code",
     "collapsed": false,
     "input": [
      "toppings = [\n",
      "    'anchovies',\n",
      "    'artichoke hearts',\n",
      "    'bell peppers',\n",
      "    'black olives',\n",
      "    'broccoli',\n",
      "    'clams',\n",
      "    'feta cheese',\n",
      "    'fresh garlic',\n",
      "    'green onion',\n",
      "    'ham',\n",
      "    'jalapeno',\n",
      "    'mushrooms',\n",
      "    'onions',\n",
      "    'oven roasted chicken',\n",
      "    'pepperoni',\n",
      "    'pineapple',\n",
      "    'roasted garlic',\n",
      "    'roma tomatoes',\n",
      "    'spicy calabrese sausage',\n",
      "    'spinach',\n",
      "    'sundried tomatoes',\n",
      "    'sweet sicilian sausauge',\n",
      "    'turkey canadian bacon',\n",
      "    ]\n",
      "\n",
      "probabilities = 1, 5, 5, 7, \n",
      "\n",
      "# number of toppings\n",
      "len(toppings)"
     ],
     "language": "python",
     "metadata": {},
     "outputs": [
      {
       "metadata": {},
       "output_type": "pyout",
       "prompt_number": 2,
       "text": [
        "23"
       ]
      }
     ],
     "prompt_number": 2
    },
    {
     "cell_type": "code",
     "collapsed": false,
     "input": [
      "# total number of possible pies\n",
      "2 ** len(toppings)"
     ],
     "language": "python",
     "metadata": {},
     "outputs": [
      {
       "metadata": {},
       "output_type": "pyout",
       "prompt_number": 3,
       "text": [
        "8388608"
       ]
      }
     ],
     "prompt_number": 3
    },
    {
     "cell_type": "markdown",
     "metadata": {},
     "source": [
      "## Topping Probabilities\n",
      "\n",
      "Since not all toppings are equally desired by the consumers, we assigned each topping a probability. Currently probabilities are calculated randomly, but in the future we plan to implement a [voting system](http://www.bitcongress.org/#)."
     ]
    },
    {
     "cell_type": "code",
     "collapsed": false,
     "input": [
      "probabilities = numpy.random.uniform(size = len(toppings))\n",
      "probabilities /= sum(probabilities)\n",
      "zip(toppings, probabilities)"
     ],
     "language": "python",
     "metadata": {},
     "outputs": [
      {
       "metadata": {},
       "output_type": "pyout",
       "prompt_number": 7,
       "text": [
        "[('anchovies', 0.021566374593177257),\n",
        " ('artichoke hearts', 0.031806363888711407),\n",
        " ('bell peppers', 0.073205306207091522),\n",
        " ('black olives', 0.025559487900895895),\n",
        " ('broccoli', 0.034192412569196036),\n",
        " ('clams', 0.02920514297040824),\n",
        " ('feta cheese', 0.070752849267723142),\n",
        " ('fresh garlic', 0.081702908930292459),\n",
        " ('green onion', 0.086268226155379865),\n",
        " ('ham', 0.015131071722923205),\n",
        " ('jalapeno', 0.0077465942267398533),\n",
        " ('mushrooms', 0.027516971243469308),\n",
        " ('onions', 0.018715123876823028),\n",
        " ('oven roasted chicken', 0.074784154955272797),\n",
        " ('pepperoni', 0.0021471888049847416),\n",
        " ('pineapple', 0.022028542782476259),\n",
        " ('roasted garlic', 0.078687316510504701),\n",
        " ('roma tomatoes', 0.067876599663798817),\n",
        " ('spicy calabrese sausage', 0.0093669855377086844),\n",
        " ('spinach', 0.023228628667477495),\n",
        " ('sundried tomatoes', 0.029942211798342118),\n",
        " ('sweet sicilian sausauge', 0.089486564513676634),\n",
        " ('turkey canadian bacon', 0.079082973212926691)]"
       ]
      }
     ],
     "prompt_number": 7
    },
    {
     "cell_type": "markdown",
     "metadata": {},
     "source": [
      "## Pizza Topping Numbers\n",
      "\n",
      "To acheive a range of pizza complexities, we generated pizza topping numbers using a Poisson distribution with $\\lambda = 2$."
     ]
    },
    {
     "cell_type": "code",
     "collapsed": false,
     "input": [
      "def get_pies(toppings, probabilities, n = 12, poisson_lambda=2, seed=None):\n",
      "    '''Generates pizza toppings.'''\n",
      "    numpy.random.seed(seed)\n",
      "    sizes = numpy.random.poisson(lam = 2, size = n)\n",
      "    return [numpy.random.choice(toppings, size = size, replace = False, p = probabilities) for size in sizes]"
     ],
     "language": "python",
     "metadata": {},
     "outputs": [],
     "prompt_number": 8
    },
    {
     "cell_type": "code",
     "collapsed": false,
     "input": [
      "def days_since(year, month, day):\n",
      "    '''Return the number of days since the epoch'''\n",
      "    date = datetime.date(year, month, day)\n",
      "    delta = date - date.fromordinal(1)\n",
      "    return delta.days"
     ],
     "language": "python",
     "metadata": {},
     "outputs": [],
     "prompt_number": 9
    },
    {
     "cell_type": "code",
     "collapsed": false,
     "input": [
      "days = days_since(2015, 3, 02)\n",
      "choices = get_pies(toppings, probabilities, n = 12, seed = days)"
     ],
     "language": "python",
     "metadata": {},
     "outputs": [],
     "prompt_number": 13
    },
    {
     "cell_type": "code",
     "collapsed": false,
     "input": [
      "for i, pizza in enumerate(choices):\n",
      "    print '{}.'.format(i + 1),\n",
      "    if len(pizza) == 0:\n",
      "        print 'cheese'\n",
      "    elif len(pizza) == 1:\n",
      "        print pizza[0]\n",
      "    elif len(pizza) == 2:\n",
      "        print ' and '.join(pizza)\n",
      "    elif len(pizza) > 2:\n",
      "        print '{}, and {}'.format(', '.join(pizza[:-1]), pizza[-1])"
     ],
     "language": "python",
     "metadata": {},
     "outputs": [
      {
       "output_type": "stream",
       "stream": "stdout",
       "text": [
        "1. roasted garlic and roma tomatoes\n",
        "2. roasted garlic\n",
        "3. turkey canadian bacon\n",
        "4. onions, green onion, bell peppers, and broccoli\n",
        "5. sweet sicilian sausauge and pineapple\n",
        "6. cheese\n",
        "7. roma tomatoes\n",
        "8. sweet sicilian sausauge and oven roasted chicken\n",
        "9. ham\n",
        "10. cheese\n",
        "11. artichoke hearts\n",
        "12. roasted garlic\n"
       ]
      }
     ],
     "prompt_number": 14
    },
    {
     "cell_type": "code",
     "collapsed": false,
     "input": [
      "api_url = 'http://xch.blockscan.com/api2'\n",
      "api_payload = {'module': 'asset', 'action': 'holders', 'name': 'ZAPIES'}\n",
      "requests.get(api_url, params = api_payload)"
     ],
     "language": "python",
     "metadata": {},
     "outputs": [
      {
       "metadata": {},
       "output_type": "pyout",
       "prompt_number": 4,
       "text": [
        "<Response [200]>"
       ]
      }
     ],
     "prompt_number": 4
    },
    {
     "cell_type": "code",
     "collapsed": false,
     "input": [],
     "language": "python",
     "metadata": {},
     "outputs": [
      {
       "metadata": {},
       "output_type": "pyout",
       "prompt_number": 41,
       "text": [
        "735651"
       ]
      }
     ],
     "prompt_number": 41
    },
    {
     "cell_type": "code",
     "collapsed": false,
     "input": [],
     "language": "python",
     "metadata": {},
     "outputs": []
    }
   ],
   "metadata": {}
  }
 ]
}