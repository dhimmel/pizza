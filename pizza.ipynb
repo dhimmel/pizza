{
 "metadata": {
  "name": "",
  "signature": "sha256:3e040ef4d06fd1165859413fe5ac695adee3b9b7be47b560146ccfe6d3d4a88b"
 },
 "nbformat": 3,
 "nbformat_minor": 0,
 "worksheets": [
  {
   "cells": [
    {
     "cell_type": "code",
     "collapsed": false,
     "input": [
      "import numpy.random"
     ],
     "language": "python",
     "metadata": {},
     "outputs": [],
     "prompt_number": 1
    },
    {
     "cell_type": "markdown",
     "metadata": {},
     "source": [
      "## Identifying Toppings\n",
      "\n",
      "The list of available toppings was retreived from the [Za Pizza website](http://zapizzasf.com/) on February 22, 2015. Further personal communication with Brooks Bernstein, identified additional toppings that were not listed online."
     ]
    },
    {
     "cell_type": "code",
     "collapsed": false,
     "input": [
      "toppings = [\n",
      "    'anchovies',\n",
      "    'artichoke hearts',\n",
      "    'bell peppers',\n",
      "    'black olives',\n",
      "    'broccoli',\n",
      "    'clams',\n",
      "    'feta cheese',\n",
      "    'fresh garlic',\n",
      "    'green onion',\n",
      "    'ham',\n",
      "    'jalapeno',\n",
      "    'mushrooms',\n",
      "    'onions',\n",
      "    'oven roasted chicken',\n",
      "    'pepperoni',\n",
      "    'pineapple',\n",
      "    'roasted garlic',\n",
      "    'roma tomatoes',\n",
      "    'spicy calabrese sausage',\n",
      "    'spinach',\n",
      "    'sundried tomatoes',\n",
      "    'sweet sicilian sausauge',\n",
      "    'turkey canadian bacon',\n",
      "    ]"
     ],
     "language": "python",
     "metadata": {},
     "outputs": [],
     "prompt_number": 2
    },
    {
     "cell_type": "code",
     "collapsed": false,
     "input": [
      "# total number of possible pies\n",
      "2 ** len(toppings)"
     ],
     "language": "python",
     "metadata": {},
     "outputs": [
      {
       "metadata": {},
       "output_type": "pyout",
       "prompt_number": 3,
       "text": [
        "8388608"
       ]
      }
     ],
     "prompt_number": 3
    },
    {
     "cell_type": "markdown",
     "metadata": {},
     "source": [
      "## Topping Probabilities\n",
      "\n",
      "Since not all toppings are equally desired by the consumers, we assigned each topping a probability. Currently probabilities are calculated randomly, but in the future we plan to implement a [voting system](http://www.bitcongress.org/#)."
     ]
    },
    {
     "cell_type": "code",
     "collapsed": false,
     "input": [
      "probabilities = numpy.random.uniform(size = len(toppings))\n",
      "probabilities /= sum(probabilities)\n",
      "zip(toppings, probabilities)"
     ],
     "language": "python",
     "metadata": {},
     "outputs": [
      {
       "metadata": {},
       "output_type": "pyout",
       "prompt_number": 28,
       "text": [
        "[('anchovies', 0.066774995197978415),\n",
        " ('artichoke hearts', 0.07901345712934757),\n",
        " ('bell peppers', 0.010901543034095927),\n",
        " ('black olives', 0.045947532609360034),\n",
        " ('broccoli', 0.038867539455283227),\n",
        " ('clams', 0.0037439025007442285),\n",
        " ('feta cheese', 0.014292643629575157),\n",
        " ('fresh garlic', 0.052906404693888721),\n",
        " ('green onion', 0.0057600324256243144),\n",
        " ('ham', 0.044206107778022419),\n",
        " ('jalapeno', 0.066240384916546713),\n",
        " ('mushrooms', 0.0068794198976691277),\n",
        " ('onions', 0.058096847949945553),\n",
        " ('oven roasted chicken', 0.036184008229942173),\n",
        " ('pepperoni', 0.075301337113328481),\n",
        " ('pineapple', 0.08447293749342101),\n",
        " ('roasted garlic', 0.064873225018791669),\n",
        " ('roma tomatoes', 0.02489409088151236),\n",
        " ('spicy calabrese sausage', 0.072424658211862128),\n",
        " ('spinach', 0.040880219564409744),\n",
        " ('sundried tomatoes', 0.0465243037761311),\n",
        " ('sweet sicilian sausauge', 0.060038128217655577),\n",
        " ('turkey canadian bacon', 0.00077628027486440225)]"
       ]
      }
     ],
     "prompt_number": 28
    },
    {
     "cell_type": "markdown",
     "metadata": {},
     "source": [
      "## Pizza Topping Numbers\n",
      "\n",
      "To acheive a range of pizza complexities, we generated pizza topping numbers using a Poisson distribution with $\\lambda = 2$."
     ]
    },
    {
     "cell_type": "code",
     "collapsed": false,
     "input": [
      "pies = 12\n",
      "sizes = numpy.random.poisson(lam = 2, size = pies)\n",
      "sizes"
     ],
     "language": "python",
     "metadata": {},
     "outputs": [
      {
       "metadata": {},
       "output_type": "pyout",
       "prompt_number": 13,
       "text": [
        "array([2, 1, 1, 2, 1, 4, 1, 2, 3, 4, 3, 1])"
       ]
      }
     ],
     "prompt_number": 13
    },
    {
     "cell_type": "code",
     "collapsed": false,
     "input": [
      "choices = [numpy.random.choice(toppings, size = size, replace = False, p = probabilities) for size in sizes]\n",
      "for i, pizza in enumerate(choices):\n",
      "    print '{}.'.format(i + 1),\n",
      "    if len(pizza) == 0:\n",
      "        print 'cheese'\n",
      "    elif len(pizza) == 1:\n",
      "        print pizza[0]\n",
      "    elif len(pizza) == 2:\n",
      "        print ' and '.join(pizza)\n",
      "    elif len(pizza) > 2:\n",
      "        print '{}, and {}'.format(', '.join(pizza[:-1]), pizza[-1])"
     ],
     "language": "python",
     "metadata": {},
     "outputs": [
      {
       "output_type": "stream",
       "stream": "stdout",
       "text": [
        "1. broccoli and anchovies\n",
        "2. jalapeno\n",
        "3. anchovies\n",
        "4. sweet sicilian sausauge and jalapeno\n",
        "5. roma tomatoes\n",
        "6. fresh garlic, pineapple, sweet sicilian sausauge, and sundried tomatoes\n",
        "7. jalapeno\n",
        "8. spicy calabrese sausage and sundried tomatoes\n",
        "9. pepperoni, spicy calabrese sausage, and artichoke hearts\n",
        "10. oven roasted chicken, broccoli, roasted garlic, and artichoke hearts\n",
        "11. sundried tomatoes, sweet sicilian sausauge, and artichoke hearts\n",
        "12. artichoke hearts\n"
       ]
      }
     ],
     "prompt_number": 30
    },
    {
     "cell_type": "code",
     "collapsed": false,
     "input": [],
     "language": "python",
     "metadata": {},
     "outputs": []
    }
   ],
   "metadata": {}
  }
 ]
}