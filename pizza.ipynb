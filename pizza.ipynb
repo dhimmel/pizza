{
 "cells": [
  {
   "cell_type": "code",
   "execution_count": 1,
   "metadata": {
    "collapsed": false
   },
   "outputs": [],
   "source": [
    "import datetime\n",
    "import json\n",
    "import os\n",
    "\n",
    "import numpy.random\n",
    "import requests"
   ]
  },
  {
   "cell_type": "markdown",
   "metadata": {},
   "source": [
    "## Identifying Toppings\n",
    "\n",
    "The list of available toppings was retreived from the [Za Pizza website](http://zapizzasf.com/) on February 22, 2015. Further personal communication with Brooks Bernstein, identified additional toppings that were not listed online."
   ]
  },
  {
   "cell_type": "code",
   "execution_count": 2,
   "metadata": {
    "collapsed": false
   },
   "outputs": [
    {
     "data": {
      "text/plain": [
       "23"
      ]
     },
     "execution_count": 2,
     "metadata": {},
     "output_type": "execute_result"
    }
   ],
   "source": [
    "toppings = [\n",
    "    'anchovies',\n",
    "    'artichoke hearts',\n",
    "    'bell peppers',\n",
    "    'black olives',\n",
    "    'broccoli',\n",
    "    'clams',\n",
    "    'feta cheese',\n",
    "    'fresh garlic',\n",
    "    'green onion',\n",
    "    'ham', # same as canadian bacom\n",
    "    'jalapeno',\n",
    "    'mushrooms',\n",
    "    'onions',\n",
    "    'oven roasted chicken',\n",
    "    'pepperoni',\n",
    "    'pineapple',\n",
    "    'roasted garlic',\n",
    "    'roma tomatoes',\n",
    "    'spicy calabrese sausage',\n",
    "    'spinach',\n",
    "    'sundried tomatoes',\n",
    "    'sweet sicilian sausauge',\n",
    "    'turkey canadian bacon',\n",
    "    ]\n",
    "\n",
    "# number of toppings\n",
    "len(toppings)"
   ]
  },
  {
   "cell_type": "code",
   "execution_count": 4,
   "metadata": {
    "collapsed": false
   },
   "outputs": [
    {
     "data": {
      "text/plain": [
       "8388608"
      ]
     },
     "execution_count": 4,
     "metadata": {},
     "output_type": "execute_result"
    }
   ],
   "source": [
    "# total number of possible pies\n",
    "2 ** len(toppings)"
   ]
  },
  {
   "cell_type": "markdown",
   "metadata": {},
   "source": [
    "## Topping Probabilities\n",
    "\n",
    "Since not all toppings are equally desired by the consumers, we assigned each topping a probability. Currently probabilities are calculated randomly, but in the future we plan to implement a [voting system](http://www.bitcongress.org/#)."
   ]
  },
  {
   "cell_type": "code",
   "execution_count": 5,
   "metadata": {
    "collapsed": false
   },
   "outputs": [],
   "source": [
    "def get_probabilities(identifier):\n",
    "    \"\"\" \"\"\"\n",
    "    path = os.path.join('weights', '{}.json'.format(identifier))\n",
    "    with open(path) as read_file:\n",
    "        weights = json.load(read_file)\n",
    "    total_weight = float(sum(weights.values()))\n",
    "    return {topping: weight / total_weight for topping, weight in weights.items()}\n",
    "\n",
    "probabilities = get_probabilities('2015-04-20_greg-fedewa')"
   ]
  },
  {
   "cell_type": "markdown",
   "metadata": {},
   "source": [
    "## Pizza Topping Numbers\n",
    "\n",
    "To acheive a range of pizza complexities, we generated pizza topping numbers using a Poisson distribution with $\\lambda = 2$."
   ]
  },
  {
   "cell_type": "code",
   "execution_count": 6,
   "metadata": {
    "collapsed": false
   },
   "outputs": [],
   "source": [
    "def get_pies(toppings, probabilities, n = 12, poisson_lambda=2, seed=None):\n",
    "    \"\"\"Generates pizza toppings.\"\"\"\n",
    "    numpy.random.seed(seed)\n",
    "    sizes = numpy.random.poisson(lam = 2, size = n)\n",
    "    return [numpy.random.choice(toppings, size = size, replace = False, p = probabilities) for size in sizes]"
   ]
  },
  {
   "cell_type": "code",
   "execution_count": 7,
   "metadata": {
    "collapsed": false
   },
   "outputs": [],
   "source": [
    "def days_since(year, month, day):\n",
    "    \"\"\"Return the number of days since the epoch\"\"\"\n",
    "    date = datetime.date(year, month, day)\n",
    "    delta = date - date.fromordinal(1)\n",
    "    return delta.days"
   ]
  },
  {
   "cell_type": "code",
   "execution_count": 10,
   "metadata": {
    "collapsed": false
   },
   "outputs": [],
   "source": [
    "days = days_since(2015, 4, 20)\n",
    "choices = get_pies(list(probabilities.keys()), list(probabilities.values()), n = 12, seed = days)"
   ]
  },
  {
   "cell_type": "code",
   "execution_count": 11,
   "metadata": {
    "collapsed": false
   },
   "outputs": [
    {
     "name": "stdout",
     "output_type": "stream",
     "text": [
      "1. spinach\n",
      "2. pineapple and roma tomatoes\n",
      "3. roma tomatoes and pineapple\n",
      "4. cheese\n",
      "5. mushrooms\n",
      "6. spicy calabrese sausage\n",
      "7. bell peppers\n",
      "8. sweet sicilian sausauge\n",
      "9. cheese\n",
      "10. ham and broccoli\n",
      "11. bell peppers and spinach\n",
      "12. onions\n"
     ]
    }
   ],
   "source": [
    "for i, pizza in enumerate(choices):\n",
    "    print('{}.'.format(i + 1), end=' ')\n",
    "    if len(pizza) == 0:\n",
    "        print('cheese')\n",
    "    elif len(pizza) == 1:\n",
    "        print(pizza[0])\n",
    "    elif len(pizza) == 2:\n",
    "        print(' and '.join(pizza))\n",
    "    elif len(pizza) > 2:\n",
    "        print('{}, and {}'.format(', '.join(pizza[:-1]), pizza[-1]))"
   ]
  },
  {
   "cell_type": "code",
   "execution_count": 32,
   "metadata": {
    "collapsed": false
   },
   "outputs": [
    {
     "data": {
      "text/plain": [
       "<Response [404]>"
      ]
     },
     "execution_count": 32,
     "metadata": {},
     "output_type": "execute_result"
    }
   ],
   "source": [
    "api_url = 'http://xch.blockscan.com/api2'\n",
    "api_payload = {'module': 'asset', 'action': 'holders', 'name': 'ZAPIES'}\n",
    "requests.get(api_url, params = api_payload)"
   ]
  },
  {
   "cell_type": "code",
   "execution_count": 41,
   "metadata": {
    "collapsed": false
   },
   "outputs": [
    {
     "data": {
      "text/plain": [
       "735651"
      ]
     },
     "execution_count": 41,
     "metadata": {},
     "output_type": "execute_result"
    }
   ],
   "source": []
  },
  {
   "cell_type": "code",
   "execution_count": 5,
   "metadata": {
    "collapsed": false
   },
   "outputs": [],
   "source": []
  },
  {
   "cell_type": "code",
   "execution_count": 6,
   "metadata": {
    "collapsed": true
   },
   "outputs": [],
   "source": []
  },
  {
   "cell_type": "code",
   "execution_count": null,
   "metadata": {
    "collapsed": false
   },
   "outputs": [],
   "source": []
  },
  {
   "cell_type": "code",
   "execution_count": null,
   "metadata": {
    "collapsed": true
   },
   "outputs": [],
   "source": []
  }
 ],
 "metadata": {
  "kernelspec": {
   "display_name": "Python 3",
   "language": "python",
   "name": "python3"
  },
  "language_info": {
   "codemirror_mode": {
    "name": "ipython",
    "version": 3
   },
   "file_extension": ".py",
   "mimetype": "text/x-python",
   "name": "python",
   "nbconvert_exporter": "python",
   "pygments_lexer": "ipython3",
   "version": "3.4.0"
  }
 },
 "nbformat": 4,
 "nbformat_minor": 0
}
