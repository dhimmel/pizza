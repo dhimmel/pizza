{
 "metadata": {
  "name": "",
  "signature": "sha256:95b7b10f524376097b39b1d20362494ac6f50ce5b7dfe0ced82e3706e05bfa52"
 },
 "nbformat": 3,
 "nbformat_minor": 0,
 "worksheets": [
  {
   "cells": [
    {
     "cell_type": "code",
     "collapsed": false,
     "input": [
      "import datetime\n",
      "import numpy.random\n",
      "import requests"
     ],
     "language": "python",
     "metadata": {},
     "outputs": [],
     "prompt_number": 28
    },
    {
     "cell_type": "markdown",
     "metadata": {},
     "source": [
      "## Identifying Toppings\n",
      "\n",
      "The list of available toppings was retreived from the [Za Pizza website](http://zapizzasf.com/) on February 22, 2015. Further personal communication with Brooks Bernstein, identified additional toppings that were not listed online."
     ]
    },
    {
     "cell_type": "code",
     "collapsed": false,
     "input": [
      "toppings = [\n",
      "    'anchovies',\n",
      "    'artichoke hearts',\n",
      "    'bell peppers',\n",
      "    'black olives',\n",
      "    'broccoli',\n",
      "    'clams',\n",
      "    'feta cheese',\n",
      "    'fresh garlic',\n",
      "    'green onion',\n",
      "    'ham',\n",
      "    'jalapeno',\n",
      "    'mushrooms',\n",
      "    'onions',\n",
      "    'oven roasted chicken',\n",
      "    'pepperoni',\n",
      "    'pineapple',\n",
      "    'roasted garlic',\n",
      "    'roma tomatoes',\n",
      "    'spicy calabrese sausage',\n",
      "    'spinach',\n",
      "    'sundried tomatoes',\n",
      "    'sweet sicilian sausauge',\n",
      "    'turkey canadian bacon',\n",
      "    ]\n",
      "\n",
      "# number of toppings\n",
      "len(toppings)"
     ],
     "language": "python",
     "metadata": {},
     "outputs": [
      {
       "metadata": {},
       "output_type": "pyout",
       "prompt_number": 16,
       "text": [
        "23"
       ]
      }
     ],
     "prompt_number": 16
    },
    {
     "cell_type": "code",
     "collapsed": false,
     "input": [
      "# total number of possible pies\n",
      "2 ** len(toppings)"
     ],
     "language": "python",
     "metadata": {},
     "outputs": [
      {
       "metadata": {},
       "output_type": "pyout",
       "prompt_number": 17,
       "text": [
        "8388608"
       ]
      }
     ],
     "prompt_number": 17
    },
    {
     "cell_type": "markdown",
     "metadata": {},
     "source": [
      "## Topping Probabilities\n",
      "\n",
      "Since not all toppings are equally desired by the consumers, we assigned each topping a probability. Currently probabilities are calculated randomly, but in the future we plan to implement a [voting system](http://www.bitcongress.org/#)."
     ]
    },
    {
     "cell_type": "code",
     "collapsed": false,
     "input": [
      "probabilities = numpy.random.uniform(size = len(toppings))\n",
      "probabilities /= sum(probabilities)\n",
      "zip(toppings, probabilities)"
     ],
     "language": "python",
     "metadata": {},
     "outputs": [
      {
       "metadata": {},
       "output_type": "pyout",
       "prompt_number": 18,
       "text": [
        "[('anchovies', 0.011208829584199409),\n",
        " ('artichoke hearts', 0.034644354736758365),\n",
        " ('bell peppers', 0.036372504827354143),\n",
        " ('black olives', 0.013223327301303359),\n",
        " ('broccoli', 0.047549287893934193),\n",
        " ('clams', 0.098503139521222291),\n",
        " ('feta cheese', 0.056795619631630184),\n",
        " ('fresh garlic', 0.021415022532539338),\n",
        " ('green onion', 0.0034941558603281044),\n",
        " ('ham', 0.012570414743946793),\n",
        " ('jalapeno', 0.03165160009147229),\n",
        " ('mushrooms', 0.072190222243575408),\n",
        " ('onions', 0.097516939548073125),\n",
        " ('oven roasted chicken', 0.01878404290580496),\n",
        " ('pepperoni', 0.0067673658251099743),\n",
        " ('pineapple', 0.072648210448527567),\n",
        " ('roasted garlic', 0.085281565351204972),\n",
        " ('roma tomatoes', 0.060501878002160031),\n",
        " ('spicy calabrese sausage', 0.035493980141487878),\n",
        " ('spinach', 0.059540074953007734),\n",
        " ('sundried tomatoes', 0.0076088215109310032),\n",
        " ('sweet sicilian sausauge', 0.084141747692445049),\n",
        " ('turkey canadian bacon', 0.032096894652984133)]"
       ]
      }
     ],
     "prompt_number": 18
    },
    {
     "cell_type": "markdown",
     "metadata": {},
     "source": [
      "## Pizza Topping Numbers\n",
      "\n",
      "To acheive a range of pizza complexities, we generated pizza topping numbers using a Poisson distribution with $\\lambda = 2$."
     ]
    },
    {
     "cell_type": "code",
     "collapsed": false,
     "input": [
      "def get_pies(toppings, probabilities, n = 12, poisson_lambda=2, seed=None):\n",
      "    '''Generates pizza toppings.'''\n",
      "    numpy.random.seed(seed)\n",
      "    sizes = numpy.random.poisson(lam = 2, size = n)\n",
      "    return [numpy.random.choice(toppings, size = size, replace = False, p = probabilities) for size in sizes]"
     ],
     "language": "python",
     "metadata": {},
     "outputs": [],
     "prompt_number": 54
    },
    {
     "cell_type": "code",
     "collapsed": false,
     "input": [
      "def days_since(year, month, day):\n",
      "    '''Return the number of days since the epoch'''\n",
      "    date = datetime.date(year, month, day)\n",
      "    delta = date - date.fromordinal(1)\n",
      "    return delta.days"
     ],
     "language": "python",
     "metadata": {},
     "outputs": [],
     "prompt_number": 55
    },
    {
     "cell_type": "code",
     "collapsed": false,
     "input": [
      "days = days_since(2015, 2, 26)\n",
      "choices = get_pies(toppings, probabilities, n = 12, seed = days)"
     ],
     "language": "python",
     "metadata": {},
     "outputs": [],
     "prompt_number": 63
    },
    {
     "cell_type": "code",
     "collapsed": false,
     "input": [
      "for i, pizza in enumerate(choices):\n",
      "    print '{}.'.format(i + 1),\n",
      "    if len(pizza) == 0:\n",
      "        print 'cheese'\n",
      "    elif len(pizza) == 1:\n",
      "        print pizza[0]\n",
      "    elif len(pizza) == 2:\n",
      "        print ' and '.join(pizza)\n",
      "    elif len(pizza) > 2:\n",
      "        print '{}, and {}'.format(', '.join(pizza[:-1]), pizza[-1])"
     ],
     "language": "python",
     "metadata": {},
     "outputs": [
      {
       "output_type": "stream",
       "stream": "stdout",
       "text": [
        "1. cheese\n",
        "2. roma tomatoes, spicy calabrese sausage, and onions\n",
        "3. jalapeno, onions, and mushrooms\n",
        "4. mushrooms, sweet sicilian sausauge, clams, and bell peppers\n",
        "5. broccoli, feta cheese, roasted garlic, and onions\n",
        "6. onions, spinach, and black olives\n",
        "7. spinach\n",
        "8. feta cheese\n",
        "9. turkey canadian bacon, artichoke hearts, and spinach\n",
        "10. roma tomatoes\n",
        "11. pineapple, mushrooms, and jalapeno\n",
        "12. mushrooms\n"
       ]
      }
     ],
     "prompt_number": 64
    },
    {
     "cell_type": "code",
     "collapsed": false,
     "input": [
      "api_url = 'http://xch.blockscan.com/api2'\n",
      "api_payload = {'module': 'asset', 'action': 'holders', 'name': 'ZAPIES'}\n",
      "requests.get(api_url, params = api_payload)"
     ],
     "language": "python",
     "metadata": {},
     "outputs": [
      {
       "metadata": {},
       "output_type": "pyout",
       "prompt_number": 11,
       "text": [
        "<Response [200]>"
       ]
      }
     ],
     "prompt_number": 11
    },
    {
     "cell_type": "code",
     "collapsed": false,
     "input": [],
     "language": "python",
     "metadata": {},
     "outputs": [
      {
       "metadata": {},
       "output_type": "pyout",
       "prompt_number": 41,
       "text": [
        "735651"
       ]
      }
     ],
     "prompt_number": 41
    },
    {
     "cell_type": "code",
     "collapsed": false,
     "input": [],
     "language": "python",
     "metadata": {},
     "outputs": []
    }
   ],
   "metadata": {}
  }
 ]
}